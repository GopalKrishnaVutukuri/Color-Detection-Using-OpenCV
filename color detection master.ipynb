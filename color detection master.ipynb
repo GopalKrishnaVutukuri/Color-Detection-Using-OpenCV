{
 "cells": [
  {
   "cell_type": "markdown",
   "metadata": {},
   "source": [
    "# color detection using OpenCV"
   ]
  },
  {
   "cell_type": "code",
   "execution_count": 2,
   "metadata": {},
   "outputs": [],
   "source": [
    "import cv2\n",
    "import numpy as np\n",
    "import pandas as pd\n",
    "\n",
    "# Path to the image file\n",
    "img_path = \"your image path\"\n",
    "img = cv2.imread(img_path)\n",
    "\n",
    "if img is None:\n",
    "    print(\"Error: Image not found or unable to load.\")\n",
    "else:\n",
    "    img = cv2.resize(img, (700, 500))\n",
    "\n",
    "clicked = False\n",
    "r = g = b = xpos = ypos = 0\n",
    "\n",
    "# Reading csv file with pandas and giving names to each column\n",
    "index = [\"color\", \"color_name\", \"hex\", \"R\", \"G\", \"B\"]\n",
    "csv_path = \"colors.csv\"\n",
    "try:\n",
    "    csv = pd.read_csv(csv_path, names=index, header=None)\n",
    "except FileNotFoundError:\n",
    "    print(f\"Error: CSV file not found at {csv_path}.\")\n",
    "    exit()\n",
    "\n",
    "# Function to calculate minimum distance from all colors and get the most matching color\n",
    "def getColorName(R, G, B):\n",
    "    minimum = 10000\n",
    "    cname = \"Unknown\"  # Default color name if not found\n",
    "    for i in range(len(csv)):\n",
    "        d = abs(R - int(csv.loc[i, \"R\"])) + abs(G - int(csv.loc[i, \"G\"])) + abs(B - int(csv.loc[i, \"B\"]))\n",
    "        if d <= minimum:\n",
    "            minimum = d\n",
    "            cname = csv.loc[i, \"color_name\"]\n",
    "    return cname\n",
    "\n",
    "# Function to get x, y coordinates of mouse double click\n",
    "def draw_function(event, x, y, flags, param):\n",
    "    global b, g, r, xpos, ypos, clicked\n",
    "    if event == cv2.EVENT_LBUTTONDBLCLK:\n",
    "        clicked = True\n",
    "        xpos = x\n",
    "        ypos = y\n",
    "        b, g, r = img[y, x]\n",
    "        b = int(b)\n",
    "        g = int(g)\n",
    "        r = int(r)\n",
    "\n",
    "cv2.namedWindow('color detection by programming_fever')\n",
    "cv2.setMouseCallback('color detection by programming_fever', draw_function)\n",
    "\n",
    "while True:\n",
    "    cv2.imshow(\"color detection by programming_fever\", img)\n",
    "    if clicked:\n",
    "        # Draw a rectangle with the detected color\n",
    "        cv2.rectangle(img, (20, 20), (750, 60), (b, g, r), -1)\n",
    "\n",
    "        # Create text string to display (Color name and RGB values)\n",
    "        text = getColorName(r, g, b) + ' R=' + str(r) + ' G=' + str(g) + ' B=' + str(b)\n",
    "        \n",
    "        # Display text with appropriate color based on the background\n",
    "        text_color = (255, 255, 255) if (r + g + b < 600) else (0, 0, 0)\n",
    "        cv2.putText(img, text, (50, 50), cv2.FONT_HERSHEY_SIMPLEX, 0.8, text_color, 2, cv2.LINE_AA)\n",
    "        \n",
    "        clicked = False\n",
    "\n",
    "    if cv2.waitKey(1) & 0xFF == 27:  # 27 is the ASCII code for the ESC key\n",
    "        break\n",
    "\n",
    "cv2.destroyAllWindows()\n"
   ]
  },
  {
   "cell_type": "markdown",
   "metadata": {},
   "source": []
  },
  {
   "cell_type": "code",
   "execution_count": null,
   "metadata": {},
   "outputs": [],
   "source": []
  }
 ],
 "metadata": {
  "kernelspec": {
   "display_name": "Python 3",
   "language": "python",
   "name": "python3"
  },
  "language_info": {
   "codemirror_mode": {
    "name": "ipython",
    "version": 3
   },
   "file_extension": ".py",
   "mimetype": "text/x-python",
   "name": "python",
   "nbconvert_exporter": "python",
   "pygments_lexer": "ipython3",
   "version": "3.10.5"
  }
 },
 "nbformat": 4,
 "nbformat_minor": 4
}
